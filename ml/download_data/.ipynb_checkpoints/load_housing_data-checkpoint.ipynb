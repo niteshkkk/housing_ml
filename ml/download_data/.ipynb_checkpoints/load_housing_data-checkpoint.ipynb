{
 "cells": [
  {
   "cell_type": "code",
   "execution_count": null,
   "metadata": {},
   "outputs": [],
   "source": [
    "import os\n",
    "import tarfile\n",
    "from six.moves import urllib\n",
    "import pandas as pd\n",
    "\n",
    "download_root = \"https://github.com/ageron/handson-ml/tree/master/\"\n",
    "path = \"datasets/housing\"\n",
    "url = download_root + path + \"/housing.tgz\"\n",
    "\n",
    "\n",
    "def load_housing_data(housing_path=path):\n",
    "    csv_path = os.path.join(housing_path, \"housing.csv\")\n",
    "    return pd.read_csv(csv_path)\n",
    "\n",
    "if __name__ == \"__main__\":\n",
    "    housing = load_housing_data()\n",
    "    print(housing.head())\n"
   ]
  }
 ],
 "metadata": {
  "kernelspec": {
   "display_name": "Python 3",
   "language": "python",
   "name": "python3"
  },
  "language_info": {
   "codemirror_mode": {
    "name": "ipython",
    "version": 3
   },
   "file_extension": ".py",
   "mimetype": "text/x-python",
   "name": "python",
   "nbconvert_exporter": "python",
   "pygments_lexer": "ipython3",
   "version": "3.6.5"
  }
 },
 "nbformat": 4,
 "nbformat_minor": 2
}
